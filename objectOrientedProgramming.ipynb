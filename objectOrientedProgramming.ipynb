{
 "cells": [
  {
   "cell_type": "markdown",
   "metadata": {},
   "source": [
    "<center>*PROGRAMACIÓN ORIENTADA A OBJETOS EN PYTHON*</center>"
   ]
  },
  {
   "cell_type": "markdown",
   "metadata": {},
   "source": [
    "La programación orientada a objetos (POO, u OOP según sus siglas en inglés) es un paradigma de programación que viene a innovar la forma de obtener resultados. Los objetos manipulan los datos de entrada para la obtención de datos de salida específicos, donde cada objeto ofrece una funcionalidad especial."
   ]
  },
  {
   "cell_type": "code",
   "execution_count": null,
   "metadata": {},
   "outputs": [],
   "source": [
    "# Programacion Orientada a Objetos\n",
    "# Clases y objetos\n",
    "\n",
    "class Lamp:\n",
    "  # Variable de clase que contiene ascii art para los estados de la lampara\n",
    "    _LAMPS = ['''\n",
    "          .\n",
    "     .    |    ,\n",
    "      \\   '   /\n",
    "       ` ,-. '\n",
    "    --- (   ) ---\n",
    "         \\ /\n",
    "        _|=|_\n",
    "       |_____|\n",
    "    ''',\n",
    "              '''\n",
    "         ,-.\n",
    "        (   )\n",
    "         \\ /\n",
    "        _|=|_\n",
    "       |_____|\n",
    "    ''']\n",
    "    # Definir el metodo init\n",
    "\n",
    "    # Constructor de la clase\n",
    "    # Todas las clases en Python tienen que recibir este parametro\n",
    "    def __init__(self, is_turned_on):\n",
    "        # Variables de esta instancia\n",
    "        self._is_turned_on = is_turned_on\n",
    "\n",
    "    # Metodos publicos\n",
    "    def turn_on(self):\n",
    "        self._is_turned_on = True\n",
    "        self._display_image()\n",
    "\n",
    "    def turn_off(self):\n",
    "        self._is_turned_on = False\n",
    "        self._display_image()\n",
    "\n",
    "    # Metodo privado para mostrar la lampara\n",
    "    def _display_image(self):\n",
    "        if self._is_turned_on:\n",
    "            print(self._LAMPS[0])\n",
    "        else:\n",
    "            print(self._LAMPS[1])\n",
    "\n",
    "\n",
    "def run():\n",
    "  # Creamos una nueva instancia\n",
    "    lamp = Lamp(is_turned_on=False)\n",
    "\n",
    "    # Inicializamos el loop de ejecucion\n",
    "    while True:\n",
    "        command = str(input('''\n",
    "          Qué deseas hacer?\n",
    "          [p] prender lampara\n",
    "          [a] apagar lampara\n",
    "          [s] salir\n",
    "      '''))\n",
    "\n",
    "        if command == 'p':\n",
    "            lamp.turn_on()\n",
    "        elif command == 'a':\n",
    "            lamp.turn_off()\n",
    "        else:\n",
    "            break\n",
    "\n",
    "\n",
    "if __name__ == '__main__':\n",
    "    run()\n"
   ]
  }
 ],
 "metadata": {
  "kernelspec": {
   "display_name": "Python 3",
   "language": "python",
   "name": "python3"
  },
  "language_info": {
   "codemirror_mode": {
    "name": "ipython",
    "version": 3
   },
   "file_extension": ".py",
   "mimetype": "text/x-python",
   "name": "python",
   "nbconvert_exporter": "python",
   "pygments_lexer": "ipython3",
   "version": "3.7.6"
  }
 },
 "nbformat": 4,
 "nbformat_minor": 4
}
