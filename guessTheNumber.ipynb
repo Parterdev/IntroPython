{
 "cells": [
  {
   "cell_type": "markdown",
   "metadata": {},
   "source": [
    "<center>**PROGRAMA PARA ADIVINAR UN NUMERO**<center>"
   ]
  },
  {
   "cell_type": "markdown",
   "metadata": {},
   "source": [
    "**Uso de While Loop**"
   ]
  },
  {
   "cell_type": "code",
   "execution_count": 1,
   "metadata": {},
   "outputs": [
    {
     "name": "stdout",
     "output_type": "stream",
     "text": [
      "Intenta ingresar un numero:8\n",
      "Probablemente el numero es menor\n",
      "Intenta ingresar un numero:4\n",
      "Probablemente el numero es mayor\n",
      "Intenta ingresar un numero:5\n",
      "Probablemente el numero es mayor\n",
      "Intenta ingresar un numero:6\n",
      "Haz encontrado el numero!\n"
     ]
    }
   ],
   "source": [
    "# Programa para adivinar numero\n",
    "\n",
    "import random\n",
    "\n",
    "\n",
    "def run():\n",
    "    number_found = False\n",
    "    # Generamos un numero random entre 0 y 20\n",
    "    random_number = random.randint(0, 20)\n",
    "\n",
    "    # not cambia el valor booleano del loop para que se ejecute\n",
    "    while not number_found:\n",
    "        number = int(input(\"Intenta ingresar un numero:\"))\n",
    "\n",
    "        # Condicion interna\n",
    "        if number == random_number:\n",
    "            print(\"Haz encontrado el numero!\")\n",
    "            # Cuando encontramos el numero, el loop se detiene en el not True = false\n",
    "            number_found = True\n",
    "\n",
    "        # Damos pista\n",
    "        elif number > random_number:\n",
    "            print(\"Probablemente el numero es menor\")\n",
    "        else:\n",
    "            print(\"Probablemente el numero es mayor\")\n",
    "\n",
    "\n",
    "if __name__ == '__main__':\n",
    "    run()\n"
   ]
  },
  {
   "cell_type": "code",
   "execution_count": null,
   "metadata": {},
   "outputs": [],
   "source": []
  }
 ],
 "metadata": {
  "kernelspec": {
   "display_name": "Python 3",
   "language": "python",
   "name": "python3"
  },
  "language_info": {
   "codemirror_mode": {
    "name": "ipython",
    "version": 3
   },
   "file_extension": ".py",
   "mimetype": "text/x-python",
   "name": "python",
   "nbconvert_exporter": "python",
   "pygments_lexer": "ipython3",
   "version": "3.7.6"
  }
 },
 "nbformat": 4,
 "nbformat_minor": 4
}
