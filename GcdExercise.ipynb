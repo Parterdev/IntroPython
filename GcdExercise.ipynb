{
 "cells": [
  {
   "cell_type": "markdown",
   "metadata": {},
   "source": [
    "<center>Programa para calcular el máximo común dividor de dos números positivos</center>"
   ]
  },
  {
   "cell_type": "code",
   "execution_count": null,
   "metadata": {},
   "outputs": [],
   "source": [
    "# Programa para calcular el maximo comun divisor de dos numeros\n",
    "\n",
    "# definimos la funcion\n",
    "def mcd(x, y):\n",
    "\n",
    "    # Determinamos el numero mas pequeño\n",
    "    if x > y:\n",
    "        min_number = y\n",
    "    else:\n",
    "        min_number = x\n",
    "    for i in range(1, min_number+1):\n",
    "        if((x % i == 0) and (y % i == 0)):\n",
    "            value = i\n",
    "    return value\n",
    "\n",
    "\n",
    "num1 = 54\n",
    "num2 = 24\n",
    "\n",
    "print(\"El mcd de {} y {} es:\".format(num1, num2), mcd(num1, num2))\n"
   ]
  }
 ],
 "metadata": {
  "kernelspec": {
   "display_name": "Python 3",
   "language": "python",
   "name": "python3"
  },
  "language_info": {
   "codemirror_mode": {
    "name": "ipython",
    "version": 3
   },
   "file_extension": ".py",
   "mimetype": "text/x-python",
   "name": "python",
   "nbconvert_exporter": "python",
   "pygments_lexer": "ipython3",
   "version": "3.7.6"
  }
 },
 "nbformat": 4,
 "nbformat_minor": 4
}
