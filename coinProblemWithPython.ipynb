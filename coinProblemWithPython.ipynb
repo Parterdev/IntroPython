{
 "cells": [
  {
   "cell_type": "markdown",
   "metadata": {},
   "source": [
    "<center>**PROBLEMA DE LA MONEDA: PROGRAMACIÓN RECURSIVA**<center>"
   ]
  },
  {
   "cell_type": "markdown",
   "metadata": {},
   "source": [
    "**Planteamiento del problema:** <p>Dado un valor N, si queremos hacer un cambio por N centavos, y tenemos un suministro infinito de cada una de las monedas valoradas S = {S1, S2, .., Sm}, ¿de cuántas maneras podemos hacer el cambio? <p>Se considera que el orden de las monedas no importa.</p></p>"
   ]
  },
  {
   "cell_type": "markdown",
   "metadata": {},
   "source": [
    "<center> **Solución mediante recursión:** </center> \n",
    "\n",
    "<p>Por ejemplo: si las denominaciones de monedas fueran 1, 3 y 4. Para obtener 6, el algoritmo codicioso elegiría tres monedas (4,1,1), mientras que la solución óptima es dos monedas (3,3).</p>\n",
    "\n",
    "<p>Por lo tanto, debemos verificar todas las combinaciones posibles. </p>\n",
    "    \n",
    "**1) Subestructura óptima**<br>\n",
    "<p>Para contar el número total de soluciones, podemos dividir todas las soluciones de conjunto en dos conjuntos.</p>\n",
    "\n",
    "**1) Soluciones que no contienen mth coin (o Sm).<br>\n",
    "**2) Soluciones que contienen al menos un Sm.<br>\n",
    "<p>Deje que count (S [], m, n) sea la función para contar el número de soluciones, luego se puede escribir como la suma de count (S [], m-1, n) y count (S [], m, n-Sm).</p>\n",
    "\n",
    "<p>Por lo tanto, el problema tiene una propiedad de subestructura óptima, ya que se puede resolver usando soluciones a subproblemas.</p>\n",
    "\n",
    "**2) Subproblemas superpuestos**<br>\n",
    "<p>Para este caso, utilizaremos la implementación recursiva simple del problema Cambio de moneda. La implementación simplemente sigue la estructura recursiva mencionada anteriormente.</p>"
   ]
  },
  {
   "cell_type": "code",
   "execution_count": 5,
   "metadata": {},
   "outputs": [
    {
     "name": "stdout",
     "output_type": "stream",
     "text": [
      "4\n"
     ]
    }
   ],
   "source": [
    "# Algoritmo recursivo para resolver el problema de cambio de moneda\n",
    "  \n",
    "# Devolvemos el recuento para sumar elementos\n",
    "# S[0...m-1] monedas para obtener la suma n\n",
    "def coin(S, m, n ): \n",
    "  \n",
    "    # Evaluamos la condicion si n es igual a cero\n",
    "    # No incluye ninguna moneda\n",
    "    if (n == 0): \n",
    "        return 1\n",
    "  \n",
    "    # Evaluamos la condición si n es menor que cero\n",
    "    # con esto decimos que no existen solucion\n",
    "    if (n < 0): \n",
    "        return 0; \n",
    "  \n",
    "    #Condición para evaluar si no hay monedas y n es mayor que cero\n",
    "    if (m <=0 and n >= 1): \n",
    "        #Entonces no tiene solucion\n",
    "        return 0 \n",
    "  \n",
    "    # Almacenamos la suma de soluciones en la variable count \n",
    "    # Incluimos S[m-1] (ii) y excluimos S[m-1] \n",
    "    return count( S, m - 1, n ) + coin( S, m, n-S[m-1] ); \n",
    "  \n",
    "# Probar la funcion con los siguientes datos\n",
    "arr = [1, 6, 10] # Arreglo para los diferentes tipos de monedas\n",
    "m = len(arr) \n",
    "print(coin(arr, m, 12)) \n",
    "  "
   ]
  },
  {
   "cell_type": "markdown",
   "metadata": {},
   "source": [
    "**Conclusión:**<p>Finalmente, el programa ha calculado el número  de monedas a retornar de una determinada suma y la cantidad de cada tipo de moneda.</p> \n",
    "<p>Para esto, pasamos como parámetro la cantidad a retornar y un vector con el valor de  los diferentes tipos de monedas, y así el algoritmo recursivo retorna un vector con la cantidad de cada tipo de monedas a devolver.</p>\n",
    "<p>Dado que se vuelven a llamar los mismos subproblemas, este problema tiene la propiedad de subproblemas superpuestos. Entonces, el problema del cambio de moneda tiene ambas propiedades (ver esto y esto) de un problema de programación dinámica, que aún no se ha implementado en esta resolución.</p>"
   ]
  },
  {
   "cell_type": "code",
   "execution_count": null,
   "metadata": {},
   "outputs": [],
   "source": []
  }
 ],
 "metadata": {
  "kernelspec": {
   "display_name": "Python 3",
   "language": "python",
   "name": "python3"
  },
  "language_info": {
   "codemirror_mode": {
    "name": "ipython",
    "version": 3
   },
   "file_extension": ".py",
   "mimetype": "text/x-python",
   "name": "python",
   "nbconvert_exporter": "python",
   "pygments_lexer": "ipython3",
   "version": "3.7.6"
  }
 },
 "nbformat": 4,
 "nbformat_minor": 4
}
