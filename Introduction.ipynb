{
 "cells": [
  {
   "cell_type": "markdown",
   "metadata": {},
   "source": [
    "# Introducción a Python\n",
    "**Autor:** Paúl Terán<br>\n",
    "**Carrera:** Desarrollo de Software\n",
    "<center>Manual del lenguaje de programación</center>"
   ]
  },
  {
   "cell_type": "code",
   "execution_count": 3,
   "metadata": {},
   "outputs": [],
   "source": [
    "# Este es un comentario de una sola linea"
   ]
  },
  {
   "cell_type": "code",
   "execution_count": 8,
   "metadata": {},
   "outputs": [
    {
     "name": "stdout",
     "output_type": "stream",
     "text": [
      "Hello, World!\n"
     ]
    }
   ],
   "source": [
    "\"\"\"\n",
    "Este es un comentario\n",
    "escrito\n",
    "en mas de una linea\n",
    "\"\"\"\n",
    "print(\"Hello, World!\") \n"
   ]
  },
  {
   "cell_type": "code",
   "execution_count": 11,
   "metadata": {},
   "outputs": [],
   "source": [
    "# Operadores matematicos\n",
    "# Los operadores nos permiten trabajar con valores y generar nuevos por medio de operaciones\n",
    "\n",
    "# Suma 2+2\n",
    "# Resta 5-2\n",
    "# Multiplicacion 3*4\n",
    "# Division (de enteros) 5/4 = 1\n",
    "# Division exacta (decimales) 5.0/4.0 = 1.25\n",
    "# Modulo de una division 9 % 2 = 4 y me sobra 1\n",
    "# Modulo de una division exacta 10 % 2 5 sobra 0\n",
    "# Elevar algo a un numero 3**2 = 9\n",
    "# Comparaciones: 3 > 5 = False\n",
    "# Comparaciones: 5 > 10 = True\n",
    "# Comparaciones: 10 == 10 True\n",
    "# Comparaciones: 10 == 9 False\n",
    "\n"
   ]
  },
  {
   "cell_type": "code",
   "execution_count": 20,
   "metadata": {},
   "outputs": [
    {
     "data": {
      "text/plain": [
       "int"
      ]
     },
     "execution_count": 20,
     "metadata": {},
     "output_type": "execute_result"
    }
   ],
   "source": [
    "# Tipos de datos basicos\n",
    "\"\"\"\n",
    "Integer: <int>\n",
    "Float: <float>\n",
    "String: <str>\n",
    "Boolean: <bool>\n",
    "\"\"\"\n",
    "type(2)\n",
    "type(2.0)\n",
    "type('Pepe')\n",
    "type(False)\n",
    "type (3 == 5)\n",
    "type (3 * 5)\n",
    "# Esto no se hace: type (\"Pepe\", 5)"
   ]
  },
  {
   "cell_type": "code",
   "execution_count": 28,
   "metadata": {},
   "outputs": [
    {
     "name": "stdout",
     "output_type": "stream",
     "text": [
      "28.27431\n",
      "78.53975\n"
     ]
    }
   ],
   "source": [
    "# Variables y expresiones\n",
    "\n",
    "# Concatenar dos strings 'Hola' + 'Pepe'\n",
    "# Imprime el string en base a la multiplicacion de'Hola Pepe' * 3 \n",
    "# Esto no se hace: 'Hola Pepe' / 3 ya que no podemos dividir un string para un int\n",
    "\n",
    "# Operacion no tan legible \n",
    "# 3.14159 * 3**2 = 28.27431\n",
    "\n",
    "# Asigno mi operacion con las siguientes variables\n",
    "pi = 3.14159 \n",
    "radio = 3\n",
    "area = pi * radio**2\n",
    "# Imprimimos el valor de area\n",
    "print(area)\n",
    "\n",
    "# Cambiamos el valor de radio\n",
    "radio = 5\n",
    "area = pi * radio**2\n",
    "print(area)\n",
    "\n"
   ]
  },
  {
   "cell_type": "code",
   "execution_count": 30,
   "metadata": {},
   "outputs": [
    {
     "name": "stdout",
     "output_type": "stream",
     "text": [
      "Cuál es tu nombrePepe\n",
      "Hola, Pepe!!\n"
     ]
    }
   ],
   "source": [
    "# Programa para recibir un dato por teclado y almacenarlo en una variable\n",
    "# Implementar esta linea cuando Python no reconoce los caracteres especiales: # -*- coding: utf-8 -*-\n",
    "nombre = str(input('Cuál es tu nombre'))\n",
    "print('Hola, ' + nombre + '!!')"
   ]
  },
  {
   "cell_type": "code",
   "execution_count": 6,
   "metadata": {},
   "outputs": [
    {
     "data": {
      "text/plain": [
       "10"
      ]
     },
     "execution_count": 6,
     "metadata": {},
     "output_type": "execute_result"
    }
   ],
   "source": [
    "# Funciones: Secuencia de comandos que realizan un computo\n",
    "# Para definirlas se utiliza el keyword def\n",
    "\n",
    "# Funcion basica para sumar dos numeros\n",
    "\n",
    "def suma(num1, num2):\n",
    "    return num1 + num2\n",
    "\n",
    "# Llamamos a la funcion\n",
    "suma(5,5)"
   ]
  },
  {
   "cell_type": "code",
   "execution_count": 1,
   "metadata": {},
   "outputs": [
    {
     "name": "stdout",
     "output_type": "stream",
     "text": [
      "Ingresa el tamaño del cuadrado: 50\n"
     ]
    }
   ],
   "source": [
    "# Funciones: Secuencia de comandos que realizan un computo\n",
    "# Para definirlas se utiliza el keyword def\n",
    "\n",
    "# Programa para crear un cuadrado mediante funciones\n",
    "import turtle\n",
    "\n",
    "def main():\n",
    "    window = turtle.Screen() #Abrimos una nueva ventana\n",
    "    dave = turtle.Turtle() #Generamos una tortuga\n",
    "    \n",
    "    make_square(dave) #Llamamos a la funcion hacer cuadrado\n",
    "    \n",
    "    turtle.mainloop() #Mantenemos nuestra ventana activa posterior al dibujo\n",
    "    \n",
    "def make_square(dave):\n",
    "    length = int(input('Ingresa el tamaño del cuadrado: '))\n",
    "    \n",
    "    #Generamos cuatro veces la funcion para crear y girar lineas\n",
    "    for i in range(4): #Funcion range que permite generar una serie de valores\n",
    "        make_line_and_turn(dave, length)\n",
    "        \n",
    "        \n",
    "def make_line_and_turn(dave, length):\n",
    "    dave.forward(length)\n",
    "    dave.left(90)\n",
    "\n",
    "\n",
    "# Funcion main por donde arrancara nuestro script \n",
    "if __name__=='__main__':\n",
    "    main()"
   ]
  },
  {
   "cell_type": "code",
   "execution_count": 7,
   "metadata": {},
   "outputs": [
    {
     "name": "stdout",
     "output_type": "stream",
     "text": [
      "C A L C U L A D O R A  D E  D I V I S A S\n",
      "Convierte sucres a dolares facilmente\n",
      "\n",
      "Ingresa la cantidad de dolares americanos que quieres convertir a sucres: 150\n",
      "$150.0 dolares americanos son $3750000.0 sucres ecuatorianos\n",
      "\n"
     ]
    }
   ],
   "source": [
    "# Funciones con parametros\n",
    "\n",
    "def foreign_exchange_calculator(ammount):\n",
    "  #Valor del tipo de cambio de sucres a dolares\n",
    "  dol_to_suc_rate =  25000\n",
    "\n",
    "  #Calculo\n",
    "  return dol_to_suc_rate * ammount #Regresamos el resultado del computo\n",
    "\n",
    "def run():  \n",
    "  print(\"C A L C U L A D O R A  D E  D I V I S A S\")\n",
    "  print(\"Convierte sucres a dolares facilmente\")\n",
    "  print(\"\")\n",
    "\n",
    "  #definimos el tipo de dato que tendra mi monto a convertir\n",
    "  ammount = float(input(\"Ingresa la cantidad de dolares americanos que quieres convertir a sucres: \"))\n",
    "\n",
    "  #llamamos a la funcion de cambio, enviando como parametro el monto recibido por teclado\n",
    "  result = foreign_exchange_calculator(ammount) #Asignamos el resultado de la funcion en una variable\n",
    "\n",
    "  #Imprimimos lo obtenido\n",
    "  print('${} dolares americanos son ${} sucres ecuatorianos'.format(ammount, result))\n",
    "  print(\"\")\n",
    "\n",
    "\n",
    "\n",
    "# Funcion de entrada\n",
    "if __name__ == '__main__':\n",
    "  run()"
   ]
  },
  {
   "cell_type": "code",
   "execution_count": 1,
   "metadata": {},
   "outputs": [
    {
     "name": "stdout",
     "output_type": "stream",
     "text": [
      "Hola senior\n"
     ]
    }
   ],
   "source": [
    "# Operadores relacionales: ==, !=, >, >=, <, <=\n",
    "\n",
    "10 == 10\n",
    "\n",
    "'a' == 'a'\n",
    "\n",
    "'david' == 'David'  # La secuencia de caracteres no es igual\n",
    "\n",
    "10 > 15  # False\n",
    "\n",
    "'z' > 'a'  # True ya que aplicamos comparacion lexicografica a, b, c donde la letra derecha es mayor a la izquierda\n",
    "\n",
    "# Operador de no igualdad\n",
    "10 != 10  # False ya que 10 si es igual a 10\n",
    "\n",
    "15 != 10  # True\n",
    "\n",
    "10 >= 11  # False\n",
    "15 <= 15  # True\n",
    "\n",
    "\n",
    "# Operadores logicos: and, or, not para comparar diferentes valores booleanos\n",
    "\n",
    "# Operador AND: Evalua que los dos valores sean verdaderos o se cumplan\n",
    "10 > 15 and 15 > 20  # False ya que las dos expresiones deben ser verdaderas\n",
    "\n",
    "# Es igual que decir True and True = True\n",
    "'a' == 'a' and 'b' == 'b'  # True ya que las dos expresiones son verdaderas\n",
    "\n",
    "# Operador OR: Evalua si alguno de dos valores se cumple\n",
    "# Es igual que decir True or False = True\n",
    "'a' == 'a' or 'b' != 'b'  # True ha pesar de que una de las expresiones es falsa\n",
    "# Para que nos de falso tendriamos que comparar: False or False\n",
    "\n",
    "# Operador NOT: Devuelve el valor opuesto del valor booleano\n",
    "not True  # Si la expresion es true me devuelve un falso y viceversa\n",
    "\n",
    "# Condicionales\n",
    "\n",
    "# Generamos una funcion que recibe por parametro la edad de una persona\n",
    "\n",
    "\n",
    "def say_hello(age):\n",
    "    if age >= 18:\n",
    "        print(\"Hola senior\")\n",
    "    else:\n",
    "        print(\"Hola junior\")\n",
    "\n",
    "\n",
    "say_hello(18)\n"
   ]
  },
  {
   "cell_type": "code",
   "execution_count": 2,
   "metadata": {},
   "outputs": [
    {
     "name": "stdout",
     "output_type": "stream",
     "text": [
      "Ingresa un numero: 5\n",
      "El numero ingresado es un primo\n"
     ]
    }
   ],
   "source": [
    "# Programa para determinar si un numero es primo\n",
    "# Los numeros primos son aquellos que son divisibles entre uno y entre ellos\n",
    "\n",
    "\n",
    "def is_prime(number):\n",
    "    if number < 2:  # Operador relacional\n",
    "        return False\n",
    "    elif number == 2:\n",
    "        return True\n",
    "    elif number > 2 and number % 2 == 0:  # Si el numero se divide entre dos y no nos sobra nada, se divide entre dos y no es primo\n",
    "        return False\n",
    "    else:\n",
    "        for i in range(3, number):  # Probamos todos los numeros a partir de tres hasta el ingresado\n",
    "            if number % i == 0:  # Si el numero ingresado es divisible entre un numero del rango que hemos generado, no es un primo\n",
    "                return False\n",
    "    return True\n",
    "\n",
    "\n",
    "def run():\n",
    "    # pass es una forma de decirle a Python que esta funcion generara o tendra algo en el futuro\n",
    "    number = int(input(\"Ingresa un numero: \"))\n",
    "\n",
    "    # Almaceno el valor booleano que regresa mi funcion\n",
    "    result = is_prime(number)\n",
    "\n",
    "    if result == True:\n",
    "        print(\"El numero ingresado es un primo\")\n",
    "    else:\n",
    "        print(\"El numero ingresado no es un primo\")\n",
    "\n",
    "\n",
    "if __name__ == '__main__':\n",
    "    run()\n"
   ]
  },
  {
   "cell_type": "code",
   "execution_count": 1,
   "metadata": {
    "scrolled": true
   },
   "outputs": [
    {
     "name": "stdout",
     "output_type": "stream",
     "text": [
      "Ingresa tu genero:masculino\n",
      "Ingresa tu edad:20\n",
      "Bienvenido senior\n"
     ]
    }
   ],
   "source": [
    "# Declaraciones condicionales\n",
    "\n",
    "# Sencillo es mejor que anidado. -> Uno de los principios de Python\n",
    "\n",
    "def det_gender(gender, age):\n",
    "    if gender == 'masculino' or gender == 'Masculino':\n",
    "        if age > 18:\n",
    "            print(\"Bienvenido senior\")\n",
    "        else:\n",
    "            print(\"Bienvenido junior\")\n",
    "\n",
    "    else:\n",
    "        if age > 18:\n",
    "            print(\"Bienvenida señora\")\n",
    "        else:\n",
    "            print(\"Bienvenida señorita\")\n",
    "\n",
    "\n",
    "def run():\n",
    "    # Ingresamos los valores por teclado\n",
    "    gender = str(input(\"Ingresa tu genero:\"))\n",
    "    age = int(input(\"Ingresa tu edad:\"))\n",
    "\n",
    "    det_gender(gender, age)\n",
    "\n",
    "\n",
    "if __name__ == '__main__':\n",
    "    run()\n"
   ]
  },
  {
   "cell_type": "code",
   "execution_count": 2,
   "metadata": {},
   "outputs": [
    {
     "name": "stdout",
     "output_type": "stream",
     "text": [
      "0\n",
      "1\n",
      "2\n",
      "3\n",
      "4\n",
      "Hello World\n",
      "Hello World\n",
      "Hello World\n",
      "Hello World\n",
      "Hello World\n",
      "0\n",
      "9\n",
      "36\n",
      "81\n",
      "144\n",
      "225\n",
      "324\n",
      "441\n",
      "576\n",
      "729\n",
      "0\n",
      "9\n",
      "36\n",
      "81\n",
      "144\n",
      "225\n",
      "324\n",
      "441\n",
      "0\n",
      "3\n",
      "6\n",
      "9\n",
      "12\n",
      "15\n",
      "18\n",
      "21\n",
      "P\n",
      "e\n",
      "p\n",
      "i\n",
      "t\n",
      "o\n"
     ]
    }
   ],
   "source": [
    "# Iteraciones: Permiten realizar la misma secuencia de pasos varias veces\n",
    "# Tambien permiten recorrer una secuencia (como un string)\n",
    "\n",
    "# Utilizamos range para establecer una secuencia de numeros sin tomar en cuenta el que ingresamos\n",
    "range(5)  # Esto imprime [0,1,2,3,4]\n",
    "\n",
    "# Notacion de range: Inicio, final y pasos\n",
    "# Rango de numeros que inician desde el 5 hasta el cuarenta sin tomarlo en cuenta y en saltos de 3\n",
    "range(5, 40, 3)\n",
    "\n",
    "# Iteraciones con for in range\n",
    "for i in range(5):\n",
    "    print(i)\n",
    "\n",
    "for i in range(5):\n",
    "    print('Hello World')\n",
    "\n",
    "# Keyword break and keyword continue\n",
    "# Break termina la iteracion y continue sigue con la instruccion\n",
    "\n",
    "for i in range(30):\n",
    "    if i % 3 != 0:\n",
    "        continue\n",
    "    else:\n",
    "        print(i**2)\n",
    "\n",
    "# Break\n",
    "for i in range(30):\n",
    "    if i % 3 == 0:  # Si i es exactamente divisible entre 3\n",
    "        print(i**2)\n",
    "    elif i == 22:  # Salimos del loop cuando la condicion se cumple\n",
    "        break\n",
    "\n",
    "# Imprimiendo los valores hasta que la condicion se cumpla\n",
    "for i in range(30):\n",
    "    if i % 3 == 0:\n",
    "        print(i)\n",
    "    elif i == 22:\n",
    "        break\n",
    "\n",
    "# Iteraciones sobre strings\n",
    "s = \"Pepito\"\n",
    "\n",
    "for letter in s:  # Imprime cada una de las letras\n",
    "    print(letter)"
   ]
  },
  {
   "cell_type": "code",
   "execution_count": 3,
   "metadata": {},
   "outputs": [
    {
     "name": "stdout",
     "output_type": "stream",
     "text": [
      "0\n",
      "1\n",
      "2\n",
      "3\n",
      "4\n",
      "5\n",
      "6\n",
      "7\n",
      "8\n",
      "9\n"
     ]
    }
   ],
   "source": [
    "# While loop\n",
    "# Similar a un for loop, pero en lugar de recorrer una secuencia, se ejecuta hasta que una condicion se convierta en falsa\n",
    "# No caer en infinite loop\n",
    "i = 0\n",
    "\n",
    "while i < 10:  # Condicion\n",
    "    print(i)  # Imprimo el valor de mi variable\n",
    "    i += 1  # Le sumo 1\n",
    "\n",
    "# Infinite loop\n",
    "j = 0\n",
    "\n",
    "# while j >= 0:  # La condicion nunca se hace falsa\n",
    "#    print(j)\n",
    "#    j += 1\n"
   ]
  },
  {
   "cell_type": "code",
   "execution_count": 4,
   "metadata": {},
   "outputs": [
    {
     "name": "stdout",
     "output_type": "stream",
     "text": [
      "Intenta ingresar un numero:10\n",
      "Haz encontrado el numero!\n"
     ]
    }
   ],
   "source": [
    "# Programa para adivinar numero\n",
    "\n",
    "import random\n",
    "\n",
    "\n",
    "def run():\n",
    "    number_found = False\n",
    "    # Generamos un numero random entre 0 y 20\n",
    "    random_number = random.randint(0, 20)\n",
    "\n",
    "    # not cambia el valor booleano del loop para que se ejecute\n",
    "    while not number_found:\n",
    "        number = int(input(\"Intenta ingresar un numero:\"))\n",
    "\n",
    "        # Condicion interna\n",
    "        if number == random_number:\n",
    "            print(\"Haz encontrado el numero!\")\n",
    "            # Cuando encontramos el numero, el loop se detiene en el not True = false\n",
    "            number_found = True\n",
    "\n",
    "        # Damos pista\n",
    "        elif number > random_number:\n",
    "            print(\"Probablemente el numero es menor\")\n",
    "        else:\n",
    "            print(\"Probablemente el numero es mayor\")\n",
    "\n",
    "\n",
    "if __name__ == '__main__':\n",
    "    run()\n"
   ]
  },
  {
   "cell_type": "code",
   "execution_count": 5,
   "metadata": {},
   "outputs": [
    {
     "name": "stdout",
     "output_type": "stream",
     "text": [
      "Pedro\n"
     ]
    }
   ],
   "source": [
    "# Listas\n",
    "# Una lista es una secuencia de elementos, se crean con los corchetes [] o con la keyword list\n",
    "# Se puede acceder a los elementos de una lista con su indice desde 0\n",
    "\n",
    "amigos = list()\n",
    "\n",
    "amigos.append('Pedro')\n",
    "amigos.append('Enrique')\n",
    "amigos.append('Alberto')\n",
    "\n",
    "# Accediendo al indice\n",
    "print(amigos[0])"
   ]
  },
  {
   "cell_type": "code",
   "execution_count": null,
   "metadata": {},
   "outputs": [],
   "source": [
    "# Diccionarios\n",
    "# Es un mapa de llaves a valores, los valores pueden ser de cualquier tipo\n",
    "# Se crea con llaves {} o con el keyword dict\n",
    "\n",
    "\"\"\"\n",
    "Iterancion en diccionarios:\n",
    "for llave in diccionario:\n",
    "for llave in diccionario.keys():\n",
    "for valor in diccionario.values():\n",
    "for llave, valor in diccionario.iteritems():\n",
    "\"\"\"\n",
    "# Declaramos el diccionario\n",
    "mi_diccionario = {}\n",
    "mi_diccionario['primer_elemento'] = 'Hola'\n",
    "mi_diccionario['segundo_elemento'] = 'Adios'\n",
    "\n",
    "value = mi_diccionario['primer_elemento']\n",
    "print(value)"
   ]
  },
  {
   "cell_type": "code",
   "execution_count": 12,
   "metadata": {},
   "outputs": [
    {
     "data": {
      "text/plain": [
       "tuple"
      ]
     },
     "execution_count": 12,
     "metadata": {},
     "output_type": "execute_result"
    }
   ],
   "source": [
    "# Tuplas\n",
    "# Son una secuencia de valores indexada por enteros\n",
    "# Las tuplas son inmutables, se las encapsula con parentesis\n",
    "\n",
    "mi_tupla = (1, 2, 3)\n",
    "type(mi_tupla)  # tipo tuple\n",
    "\n",
    "\n",
    "mi_lista = [1, 2, 2]\n",
    "type(mi_lista)  # Tipo lista\n",
    "\n",
    "# Cambio valores a mi lista\n",
    "mi_lista[0] = 10  # Cambio el valor del indice 0\n",
    "mi_lista\n",
    "\n",
    "# Intento cambiar valores a mi tupla\n",
    "# Obtendremos un error: 'tuple' object does not support item assignment\n",
    "# mi_tupla[0] = 99\n",
    "# mi_tupla\n",
    "\n",
    "# Manejando un solo valor en mi lista\n",
    "mi_lista = [1]\n",
    "mi_lista\n",
    "\n",
    "# Manejando un solo valor en mi tupla\n",
    "mi_tupla = (1)\n",
    "type(mi_tupla)  # No arrojara un error pero el tipo no sera tupla sino int\n",
    "\n",
    "# Para decir que es una tupla de un solo valor\n",
    "mi_tupla = (1,)\n",
    "type(mi_tupla)\n",
    "\n",
    "\n"
   ]
  },
  {
   "cell_type": "code",
   "execution_count": 13,
   "metadata": {},
   "outputs": [
    {
     "name": "stdout",
     "output_type": "stream",
     "text": [
      "\n",
      "          Qué deseas hacer?\n",
      "          [p] prender lampara\n",
      "          [a] apagar lampara\n",
      "          [s] salir\n",
      "      p\n",
      "\n",
      "          .\n",
      "     .    |    ,\n",
      "      \\   '   /\n",
      "       ` ,-. '\n",
      "    --- (   ) ---\n",
      "         \\ /\n",
      "        _|=|_\n",
      "       |_____|\n",
      "    \n",
      "\n",
      "          Qué deseas hacer?\n",
      "          [p] prender lampara\n",
      "          [a] apagar lampara\n",
      "          [s] salir\n",
      "      a\n",
      "\n",
      "         ,-.\n",
      "        (   )\n",
      "         \\ /\n",
      "        _|=|_\n",
      "       |_____|\n",
      "    \n",
      "\n",
      "          Qué deseas hacer?\n",
      "          [p] prender lampara\n",
      "          [a] apagar lampara\n",
      "          [s] salir\n",
      "      s\n"
     ]
    }
   ],
   "source": [
    "# Programacion Orientada a Objetos\n",
    "# Clases y objetos\n",
    "\n",
    "class Lamp:\n",
    "  # Variable de clase que contiene ascii art para los estados de la lampara\n",
    "    _LAMPS = ['''\n",
    "          .\n",
    "     .    |    ,\n",
    "      \\   '   /\n",
    "       ` ,-. '\n",
    "    --- (   ) ---\n",
    "         \\ /\n",
    "        _|=|_\n",
    "       |_____|\n",
    "    ''',\n",
    "              '''\n",
    "         ,-.\n",
    "        (   )\n",
    "         \\ /\n",
    "        _|=|_\n",
    "       |_____|\n",
    "    ''']\n",
    "    # Definir el metodo init\n",
    "\n",
    "    # Constructor de la clase\n",
    "    # Todas las clases en Python tienen que recibir este parametro\n",
    "    def __init__(self, is_turned_on):\n",
    "        # Variables de esta instancia\n",
    "        self._is_turned_on = is_turned_on\n",
    "\n",
    "    # Metodos publicos\n",
    "    def turn_on(self):\n",
    "        self._is_turned_on = True\n",
    "        self._display_image()\n",
    "\n",
    "    def turn_off(self):\n",
    "        self._is_turned_on = False\n",
    "        self._display_image()\n",
    "\n",
    "    # Metodo privado para mostrar la lampara\n",
    "    def _display_image(self):\n",
    "        if self._is_turned_on:\n",
    "            print(self._LAMPS[0])\n",
    "        else:\n",
    "            print(self._LAMPS[1])\n",
    "\n",
    "\n",
    "def run():\n",
    "  # Creamos una nueva instancia\n",
    "    lamp = Lamp(is_turned_on=False)\n",
    "\n",
    "    # Inicializamos el loop de ejecucion\n",
    "    while True:\n",
    "        command = str(input('''\n",
    "          Qué deseas hacer?\n",
    "          [p] prender lampara\n",
    "          [a] apagar lampara\n",
    "          [s] salir\n",
    "      '''))\n",
    "\n",
    "        if command == 'p':\n",
    "            lamp.turn_on()\n",
    "        elif command == 'a':\n",
    "            lamp.turn_off()\n",
    "        else:\n",
    "            break\n",
    "\n",
    "\n",
    "if __name__ == '__main__':\n",
    "    run()\n"
   ]
  },
  {
   "cell_type": "code",
   "execution_count": null,
   "metadata": {},
   "outputs": [],
   "source": []
  }
 ],
 "metadata": {
  "kernelspec": {
   "display_name": "Python 3",
   "language": "python",
   "name": "python3"
  },
  "language_info": {
   "codemirror_mode": {
    "name": "ipython",
    "version": 3
   },
   "file_extension": ".py",
   "mimetype": "text/x-python",
   "name": "python",
   "nbconvert_exporter": "python",
   "pygments_lexer": "ipython3",
   "version": "3.7.6"
  }
 },
 "nbformat": 4,
 "nbformat_minor": 4
}
