{
 "cells": [
  {
   "cell_type": "markdown",
   "metadata": {},
   "source": [
    "<center>**PROBLEMA DE LA MOCHILA: PROGRAMACIÓN DINÁMICA**<center>"
   ]
  },
  {
   "cell_type": "markdown",
   "metadata": {},
   "source": [
    "**Planteamiento del problema:** <p>Dados los pesos y valores de n elementos, coloque estos elementos en una mochila de capacidad W para obtener el valor total máximo en la mochila. En otras palabras, dados dos conjuntos enteros val [0..n-1] y wt [0..n-1] que representan valores y pesos asociados con n elementos respectivamente. También dado un número entero W que representa la capacidad de la mochila, descubra el subconjunto de valor máximo de val [] de modo que la suma de los pesos de este subconjunto sea menor o igual a W. No puede romper un elemento, elija el elemento completo o no recogerlo (0-1 propiedad).</p>"
   ]
  },
  {
   "cell_type": "markdown",
   "metadata": {},
   "source": [
    "<center> **Solución mediante recursión:** </center> <p>Una solución simple es considerar todos los subconjuntos de elementos y calcular el peso total y el valor de todos los subconjuntos. Debemos considerar los únicos subconjuntos cuyo peso total es menor que W. De todos esos subconjuntos, elegimos el subconjunto de valor máximo.</p>\n",
    "\n",
    "<p>La subestructura óptima: para considerar todos los subconjuntos de elementos, puede haber dos casos para cada elemento:</p>\n",
    "    \n",
    "<p>Caso 1: El elemento se incluye en el subconjunto óptimo.</p>\n",
    "<p>Caso 2: El elemento no está incluido en el conjunto óptimo.</p>"
   ]
  },
  {
   "cell_type": "markdown",
   "metadata": {},
   "source": [
    "<p>Por lo tanto, el valor máximo que se puede obtener de los elementos \"n\" es el máximo de los siguientes dos valores: </p>\n",
    "\n",
    "**1** Valor máximo obtenido por n-1 ítems y peso W (excluido enésimo ítem).<br>\n",
    "**2** Valor del enésimo elemento más el valor máximo obtenido por n-1 elementos y W menos el peso del enésimo elemento (incluido el enésimo elemento).<br>\n",
    "\n",
    "<p>Si el peso del elemento \"enésimo\" es mayor que \"W\", entonces el elemento enésimo no se puede incluir y el caso 1 es la única posibilidad.<p>"
   ]
  },
  {
   "cell_type": "code",
   "execution_count": 4,
   "metadata": {},
   "outputs": [
    {
     "name": "stdout",
     "output_type": "stream",
     "text": [
      "235\n"
     ]
    }
   ],
   "source": [
    "\n",
    "# Problema de la mochila con algortimo de recursion\n",
    "# Metodo de 0 o 1\n",
    "\n",
    "# Retornamos el valor maximo \"W\" de capacidad de la mochila\n",
    "def backPack(W, wt, val, n):\n",
    "\n",
    "    # Caso inicial\n",
    "    if n == 0 or W == 0:\n",
    "        return 0\n",
    "\n",
    "    # Segunda condición para comprobar si el peso del enésimo elemento es mayor que el de la capacidad de la mochila\n",
    "    if (wt[n-1] > W):\n",
    "        # Si esto sucede, el objeto no puede ser incluido en la solucion\n",
    "        return backPack(W, wt, val, n-1)\n",
    "\n",
    "    # Caso contrario, devolvemos el maximo de dos posibles situaciones\n",
    "    # El enésimo elemento incluido o no incluido\n",
    "    else:\n",
    "        return max(  # Utilizamos la funcion max para determinar estos valores\n",
    "            val[n-1] + backPack(\n",
    "                W-wt[n-1], wt, val, n-1),\n",
    "            backPack(W, wt, val, n-1))\n",
    "\n",
    "\n",
    "# Ingresamos valores para la función\n",
    "val = [70, 85, 150]  # Valores de cada uno de los objetos\n",
    "wt = [10, 20, 30]  # Pesos asociados a cada elemento\n",
    "W = 50  # Capacidad total de la mochila\n",
    "n = len(val)  # Longitud de mi arreglo de mis objetos a ingresar\n",
    "\n",
    "# print(len(val))\n",
    "\n",
    "# Imprimimos el resultado\n",
    "print(backPack(W, wt, val, n))\n"
   ]
  },
  {
   "cell_type": "markdown",
   "metadata": {},
   "source": [
    "**Conclusión:** <p>La función realizada en el programa (Fuerza Bruta), calcula los mismos subproblemas una y otra vez. Es decir que, K (1, 1) se está evaluando dos veces. La solución recursiva matemática del programa se puede manifestar de manera exponencial (2^n) dado que hay n elementos, pueden haber 2 a la n posibles combinaciones. El programa va a través de todas las combinaciones y encuentra aquella cuyo peso sea menor que la capacidad W de la mochila y que maximise el valor o beneficio. **Esto no es del todo tratable cuando n tiene grandes valores.**\n",
    "</p>"
   ]
  }
 ],
 "metadata": {
  "kernelspec": {
   "display_name": "Python 3",
   "language": "python",
   "name": "python3"
  },
  "language_info": {
   "codemirror_mode": {
    "name": "ipython",
    "version": 3
   },
   "file_extension": ".py",
   "mimetype": "text/x-python",
   "name": "python",
   "nbconvert_exporter": "python",
   "pygments_lexer": "ipython3",
   "version": "3.7.6"
  }
 },
 "nbformat": 4,
 "nbformat_minor": 4
}
