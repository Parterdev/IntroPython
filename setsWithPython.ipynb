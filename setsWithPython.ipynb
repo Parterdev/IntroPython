{
 "cells": [
  {
   "cell_type": "markdown",
   "metadata": {},
   "source": [
    "<center>*CONJUNTOS EN PYTHON*</center>"
   ]
  },
  {
   "cell_type": "markdown",
   "metadata": {},
   "source": [
    "Los conjuntos o también llamados **Sets** en Python, son estructuras de datos muy similares a las listas con la diferencia de que estos no permiten datos duplicados. "
   ]
  },
  {
   "cell_type": "code",
   "execution_count": 3,
   "metadata": {},
   "outputs": [
    {
     "name": "stdout",
     "output_type": "stream",
     "text": [
      "{1, 2, 3, 4, 5}\n",
      "{3}\n",
      "{1, 2}\n",
      "{4, 5}\n"
     ]
    },
    {
     "data": {
      "text/plain": [
       "True"
      ]
     },
     "execution_count": 3,
     "metadata": {},
     "output_type": "execute_result"
    }
   ],
   "source": [
    "# Conjuntos en python\n",
    "\n",
    "# Definimos un conjunto con el keyword set y los elementos que contienen este\n",
    "s = set([1, 2, 3])  # Conjunto s\n",
    "\n",
    "t = set([3, 4, 5])  # Conjunto t\n",
    "\n",
    "# 1.- Operacion de union de conjuntos\n",
    "print(s.union(t))  # Imprime un nuevo conjunto con todos los elementos\n",
    "\n",
    "# 2.- Operacion de interseccion\n",
    "print(s.intersection(t))  # Imprime el valor compartido entres los conjuntos\n",
    "\n",
    "# 3.- Operacion de diferencia\n",
    "# Imprime que elementos contiene S que no contenga T\n",
    "print(s.difference(t))\n",
    "\n",
    "print(t.difference(s))\n",
    "\n",
    "# Determinamos si un valor x esta en tal conjunto\n",
    "1 in s  # Nos devuelve True\n",
    "\n",
    "1 in t  # Nos develve False\n",
    "\n",
    "1 not in s  # Para verificar si un valor no esta en un conjunto x, nos devuelve False\n",
    "\n",
    "1 not in t  # Nos devuelve True\n"
   ]
  },
  {
   "cell_type": "markdown",
   "metadata": {},
   "source": [
    "<center>**EJERCICIO BÁSICO DE APLICACIÓN**<center>"
   ]
  },
  {
   "cell_type": "code",
   "execution_count": 4,
   "metadata": {},
   "outputs": [
    {
     "name": "stdout",
     "output_type": "stream",
     "text": [
      "Ingresa tu nombre: Lina\n",
      "No te encuentras registrado/a en la lista de invitados\n"
     ]
    }
   ],
   "source": [
    "# Ejemplo de uso de conjuntos en python\n",
    "\n",
    "meetup_list = set(['Pepe', 'Raul', 'Maria', 'Juana'])\n",
    "\n",
    "find_name = str(input('Ingresa tu nombre: '))\n",
    "\n",
    "if find_name not in meetup_list:\n",
    "    print('No te encuentras registrado/a en la lista de invitados')\n",
    "else:\n",
    "    print('Bienvenido/a el Meetup Ec')\n"
   ]
  }
 ],
 "metadata": {
  "kernelspec": {
   "display_name": "Python 3",
   "language": "python",
   "name": "python3"
  },
  "language_info": {
   "codemirror_mode": {
    "name": "ipython",
    "version": 3
   },
   "file_extension": ".py",
   "mimetype": "text/x-python",
   "name": "python",
   "nbconvert_exporter": "python",
   "pygments_lexer": "ipython3",
   "version": "3.7.6"
  }
 },
 "nbformat": 4,
 "nbformat_minor": 4
}
