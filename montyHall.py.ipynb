{
 "cells": [
  {
   "cell_type": "markdown",
   "metadata": {},
   "source": [
    "<center>**MONTY HALL**<center>"
   ]
  },
  {
   "cell_type": "code",
   "execution_count": 1,
   "metadata": {},
   "outputs": [
    {
     "name": "stdout",
     "output_type": "stream",
     "text": [
      "***MONTY HALL PROBLEM***\n",
      "\n",
      "     /|\n",
      "    / |\n",
      "   /__|______\n",
      "  |  __  __  |\n",
      "  | |  ||  | | \n",
      "  | |__||__| |---\n",
      "  |  __  __()|\\ **???**\n",
      "  | |  ||  | |\n",
      "  | |  ||  | |\n",
      "  | |__||__| |\n",
      "  |__________|\n",
      "    \n",
      "\n",
      "Qué puerta quieres escoger? (1,2,3): 1\n",
      "EL presentador abre la puerta: 2\n",
      "Quieres cambiar a la puerta: 3? (si/no)\n",
      "si\n",
      "El resultado es: CARRO\n"
     ]
    }
   ],
   "source": [
    "# Importamos la libreria Random\n",
    "import random\n",
    "\n",
    "\n",
    "def monty_hall(selec):\n",
    "    # Datos de mis puertas\n",
    "\n",
    "    puertas = ['carro', 'cabra', 'cabra']\n",
    "\n",
    "    # Datos aleatorios\n",
    "    random.shuffle(puertas)\n",
    "\n",
    "    # Mostramos una puerta que no sera carro\n",
    "    while True:\n",
    "        # Almacenamos un elemento al azar del rango especificado por la longitud de mi arreglo\n",
    "        puerta_abierta = random.randrange(\n",
    "            len(puertas))  # numero al azar con randrange\n",
    "        if puertas[puerta_abierta] != 'carro' and selec-1 != puerta_abierta:\n",
    "            break\n",
    "\n",
    "    puerta_abierta = puerta_abierta + 1\n",
    "    print('EL presentador abre la puerta: %d' % (puerta_abierta))\n",
    "\n",
    "    # Cambio de puerta\n",
    "    opciones = [1, 2, 3]\n",
    "    opciones.remove(selec)\n",
    "    opciones.remove(puerta_abierta)\n",
    "    cambio_puerta = opciones[0]\n",
    "\n",
    "    # Preguntamos nuevamente para cambiar la opcion\n",
    "    print('Quieres cambiar a la puerta: %d? (si/no)' %\n",
    "          (cambio_puerta))\n",
    "    respuesta = input()\n",
    "    if respuesta == 'si':\n",
    "        resultado = cambio_puerta - 1\n",
    "    else:\n",
    "        resultado = selec - 1\n",
    "\n",
    "    # Es hora de mostrar\n",
    "    print('El resultado es:', puertas[resultado].upper())\n",
    "\n",
    "\n",
    "def run():\n",
    "    print(\"***MONTY HALL PROBLEM***\")\n",
    "    print('''\n",
    "     /|\n",
    "    / |\n",
    "   /__|______\n",
    "  |  __  __  |\n",
    "  | |  ||  | | \n",
    "  | |__||__| |---\n",
    "  |  __  __()|\\ **???**\n",
    "  | |  ||  | |\n",
    "  | |  ||  | |\n",
    "  | |__||__| |\n",
    "  |__________|\n",
    "    ''')\n",
    "    print(\"\")\n",
    "\n",
    "    # Ingresamos la seleccion por teclado\n",
    "    selec = int(input('Qué puerta quieres escoger? (1,2,3): '))\n",
    "\n",
    "    # Llamamos a la funcion monty_hall pasando el parametro de seleccion\n",
    "    monty_hall(selec)\n",
    "\n",
    "\n",
    "# Funcion de entrada\n",
    "if __name__ == '__main__':\n",
    "    run()\n"
   ]
  },
  {
   "cell_type": "code",
   "execution_count": null,
   "metadata": {},
   "outputs": [],
   "source": []
  }
 ],
 "metadata": {
  "kernelspec": {
   "display_name": "Python 3",
   "language": "python",
   "name": "python3"
  },
  "language_info": {
   "codemirror_mode": {
    "name": "ipython",
    "version": 3
   },
   "file_extension": ".py",
   "mimetype": "text/x-python",
   "name": "python",
   "nbconvert_exporter": "python",
   "pygments_lexer": "ipython3",
   "version": "3.7.6"
  }
 },
 "nbformat": 4,
 "nbformat_minor": 4
}
